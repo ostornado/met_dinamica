{
 "cells": [
  {
   "cell_type": "code",
   "execution_count": 1,
   "id": "marked-roots",
   "metadata": {},
   "outputs": [],
   "source": [
    "import numpy as np\n",
    "import matplotlib.pyplot as plt"
   ]
  },
  {
   "cell_type": "code",
   "execution_count": 2,
   "id": "cardiac-brain",
   "metadata": {},
   "outputs": [],
   "source": [
    "#*********************************\n",
    "# simulation parameters:\n",
    "#*********************************"
   ]
  },
  {
   "cell_type": "code",
   "execution_count": 3,
   "id": "instrumental-january",
   "metadata": {},
   "outputs": [],
   "source": [
    "# initial latitude (degrees):\n",
    "lat0 = 0 "
   ]
  },
  {
   "cell_type": "code",
   "execution_count": 4,
   "id": "numeric-fetish",
   "metadata": {},
   "outputs": [],
   "source": [
    "# initial velocity in x (m/s):\n",
    "Vx0  = 0"
   ]
  },
  {
   "cell_type": "code",
   "execution_count": 5,
   "id": "sought-commission",
   "metadata": {},
   "outputs": [],
   "source": [
    "# initial velocity in y (m/s):\n",
    "Vy0  = 0"
   ]
  },
  {
   "cell_type": "code",
   "execution_count": 6,
   "id": "nuclear-aurora",
   "metadata": {},
   "outputs": [],
   "source": [
    "# simulation time (hours):\n",
    "Time_period = 0"
   ]
  },
  {
   "cell_type": "code",
   "execution_count": 7,
   "id": "worth-oregon",
   "metadata": {},
   "outputs": [],
   "source": [
    "# time step (s):\n",
    "dt = 0"
   ]
  },
  {
   "cell_type": "code",
   "execution_count": 8,
   "id": "successful-calgary",
   "metadata": {},
   "outputs": [],
   "source": [
    "# consider f costant?\n",
    "f_constant = True"
   ]
  },
  {
   "cell_type": "code",
   "execution_count": 9,
   "id": "fiscal-sheriff",
   "metadata": {},
   "outputs": [],
   "source": [
    "# Earth's angular speed of rotation:\n",
    "omega = 2.*np.pi/(24.*60.*60.) "
   ]
  },
  {
   "cell_type": "code",
   "execution_count": 10,
   "id": "median-notification",
   "metadata": {},
   "outputs": [],
   "source": [
    "#*********************************\n",
    "# definition of functions:\n",
    "#*********************************"
   ]
  },
  {
   "cell_type": "code",
   "execution_count": 11,
   "id": "listed-muslim",
   "metadata": {},
   "outputs": [],
   "source": [
    "def calc_acc(vx, vy, lat, w=omega):\n",
    "    f=calc_f(lat, w)\n",
    "    ax = f*vy\n",
    "    ay = -f*vx\n",
    "    return ax, ay"
   ]
  },
  {
   "cell_type": "code",
   "execution_count": 12,
   "id": "excessive-farmer",
   "metadata": {},
   "outputs": [],
   "source": [
    "def calc_next_vel(vx, vy, ax, ay, delta_t=dt):\n",
    "    vx_new = vx+ax*delta_t\n",
    "    vy_new = vy+ay*delta_t\n",
    "    return vx_new, vy_new"
   ]
  },
  {
   "cell_type": "code",
   "execution_count": 13,
   "id": "given-flower",
   "metadata": {},
   "outputs": [],
   "source": [
    "def calc_next_pos(x, y, vx, vy, delta_t=dt):\n",
    "    x_new = x+vx*delta_t\n",
    "    y_new = y+vy*delta_t\n",
    "    return x_new, y_new"
   ]
  },
  {
   "cell_type": "code",
   "execution_count": 14,
   "id": "greater-quick",
   "metadata": {},
   "outputs": [],
   "source": [
    "def calc_f(lat, w):\n",
    "    return 2*w*np.sin(lat)"
   ]
  },
  {
   "cell_type": "code",
   "execution_count": 15,
   "id": "foreign-spokesman",
   "metadata": {},
   "outputs": [],
   "source": [
    "def calc_lat(lat0, y, y0=0, r=6.37e6):\n",
    "    #lat0 must be in radians\n",
    "    dlat = (y-y0)/r\n",
    "    return lat0+dlat"
   ]
  },
  {
   "cell_type": "code",
   "execution_count": 16,
   "id": "foreign-accused",
   "metadata": {},
   "outputs": [],
   "source": [
    "#********************************************************************\n",
    "# main code starts here:\n",
    "#********************************************************************"
   ]
  },
  {
   "cell_type": "code",
   "execution_count": 17,
   "id": "unnecessary-dover",
   "metadata": {},
   "outputs": [],
   "source": [
    "# convert initial latitude to radians\n",
    "lat0 = lat0*np.pi/180."
   ]
  },
  {
   "cell_type": "code",
   "execution_count": 18,
   "id": "familiar-campaign",
   "metadata": {},
   "outputs": [],
   "source": [
    "# define arrays and set initial values:\n",
    "x   = np.array([0.])\n",
    "y   = np.array([0.])\n",
    "vx  = np.array([Vx0])\n",
    "vy  = np.array([Vy0])\n",
    "lat = np.array([lat0])"
   ]
  },
  {
   "cell_type": "code",
   "execution_count": 19,
   "id": "hydraulic-river",
   "metadata": {},
   "outputs": [],
   "source": [
    "# compute initial acceleration:\n",
    "ax0, ay0 = calc_acc(vx[-1], vy[-1], lat0) \n",
    "ax = np.array([ax0])\n",
    "ay = np.array([ay0])"
   ]
  },
  {
   "cell_type": "code",
   "execution_count": 20,
   "id": "biological-terror",
   "metadata": {},
   "outputs": [],
   "source": [
    "# compute new positions, velocities and accelerations throughout time:\n",
    "t = 0"
   ]
  },
  {
   "cell_type": "code",
   "execution_count": 21,
   "id": "registered-reality",
   "metadata": {},
   "outputs": [],
   "source": [
    "while t < Time_period*60*60.:\n",
    "    vx_new, vy_new = calc_next_vel(vx[-1], vy[-1], ax[-1], ay[-1])\n",
    "    x_new, y_new = calc_next_pos(x[-1], y[-1], vx[-1], vy[-1])\n",
    "    x = np.append(x, x_new)\n",
    "    y = np.append(y, y_new)\n",
    "    vx = np.append(vx, vx_new)\n",
    "    vy = np.append(vy, vy_new)\n",
    "    lat = np.append(lat, calc_lat(lat0, y[-1], y[0]))\n",
    "    if f_constant:\n",
    "        ax_new, ay_new = calc_acc(vx[-1], vy[-1], lat0)\n",
    "    else:\n",
    "        ax_new, ay_new = calc_acc(vx[-1], vy[-1], lat[-1])\n",
    "    ax = np.append(ax, ax_new)\n",
    "    ay = np.append(ay, ay_new)\n",
    "    t+= dt"
   ]
  },
  {
   "cell_type": "code",
   "execution_count": 22,
   "id": "sustained-april",
   "metadata": {},
   "outputs": [],
   "source": [
    "#*********************************\n",
    "# create plot:\n",
    "#*********************************"
   ]
  },
  {
   "cell_type": "code",
   "execution_count": 23,
   "id": "mineral-institute",
   "metadata": {},
   "outputs": [
    {
     "data": {
      "image/png": "[encoded data removed]",
      "text/plain": [
       "<Figure size 432x288 with 1 Axes>"
      ]
     },
     "metadata": {
      "needs_background": "light"
     },
     "output_type": "display_data"
    }
   ],
   "source": [
    "fig = plt.figure()\n",
    "plt.plot(x*1e-3, y*1e-3)\n",
    "plt.xlabel('x (km)', fontsize=16)\n",
    "plt.ylabel('y (km)', fontsize=16)\n",
    "lims=plt.axis('equal')\n",
    "plt.savefig('plot.png')\n",
    "plt.show()"
   ]
  },
  {
   "cell_type": "code",
   "execution_count": null,
   "id": "macro-reminder",
   "metadata": {},
   "outputs": [],
   "source": []
  }
 ],
 "metadata": {
  "kernelspec": {
   "display_name": "Python 3",
   "language": "python",
   "name": "python3"
  },
  "language_info": {
   "codemirror_mode": {
    "name": "ipython",
    "version": 3
   },
   "file_extension": ".py",
   "mimetype": "text/x-python",
   "name": "python",
   "nbconvert_exporter": "python",
   "pygments_lexer": "ipython3",
   "version": "3.7.10"
  }
 },
 "nbformat": 4,
 "nbformat_minor": 5
}
